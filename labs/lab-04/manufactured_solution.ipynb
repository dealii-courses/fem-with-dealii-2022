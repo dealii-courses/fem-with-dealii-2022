{
 "cells": [
  {
   "cell_type": "code",
   "execution_count": null,
   "metadata": {},
   "outputs": [],
   "source": [
    "%pylab inline\n",
    "\n",
    "from mpl_toolkits.mplot3d import Axes3D\n",
    "import sympy as sym\n",
    "sym.init_printing()"
   ]
  },
  {
   "cell_type": "markdown",
   "metadata": {},
   "source": [
    "Solving \n",
    "\n",
    "$$\n",
    "-\\Delta u = f\n",
    "$$\n",
    "\n",
    "Example 1 (peak 2d): \n",
    "\n",
    "$$\n",
    "u(x,y) = x(x-1)y(y-1)e^{-100\\big( (x-0.5)^2+(y-0.117)^2\\big)}\n",
    "$$\n",
    "\n",
    "Example 2 (for L-shaped domain, no-rhs, only boundary conditions, in polar coordinates):\n",
    "\n",
    "$$\n",
    "u(r,\\theta) = r^{2/3} \\sin\\left(\\frac{2\\theta+5\\pi}{3}\\right)\n",
    "$$\n",
    "\n",
    "etc.\n",
    "\n",
    "Play around with your own examples!"
   ]
  },
  {
   "cell_type": "code",
   "execution_count": null,
   "metadata": {},
   "outputs": [],
   "source": [
    "from sympy import atan2, sin, cos, exp\n",
    "x,y,z = sym.var('x,y,z')\n",
    "\n",
    "def u(x,y):\n",
    "    return x*(x-1)*y*(y-1)*exp(-100*(x-0.3)**2-100*(y-0.2)**2)\n",
    "\n",
    "def u1(x,y):\n",
    "    r = (x*x+y*y)**(1/2)\n",
    "    theta = atan2(x,y)\n",
    "    return r**(2/3)*sin(theta*2/3)\n",
    "\n",
    "def u2(x,y,z):\n",
    "    return x*(x-1)*y*(y-1)*z*(z-1)*exp(-100*(x-0.5)**2-100*(y-0.117)**2-100*(z-0.331)**2)\n",
    "\n",
    "def u3(x,y,z):\n",
    "    return (x*x + y*y + z*z)**(1/4);\n",
    "\n",
    "def u4(x,y):\n",
    "    return sin(2*sym.pi*y)*sin(2*sym.pi*x)\n",
    "\n",
    "def u5(x,y):\n",
    "    return x*(x-1)*y*(y-1)*(10*exp(-100*(x-0.5)**2-100*(y-0.1)**2)+.1*exp(-100*(x-0.1)**2-100*(y-0.5)**2))"
   ]
  },
  {
   "cell_type": "code",
   "execution_count": null,
   "metadata": {},
   "outputs": [],
   "source": [
    "def prm(symu, f):\n",
    "    print(\n",
    "        # \"set Exact solution expression     = \"+ str(symu).replace('**', '^')+\"\\n\" +\n",
    "        \"set Forcing term expression       = \"+ str(f).replace('**', '^') + \"\\n\" +\n",
    "        \"set Boundary condition expression = \"+ str(symu).replace('**', '^')+ \"\\n\" +\n",
    "        \"set Problem constants             = \"+ \"pi:\"+str(pi)\n",
    "    )\n",
    "\n",
    "def generate_prm(symu):\n",
    "    f = -symu.diff(x,2)-symu.diff(y,2)\n",
    "    f = sym.simplify(f)\n",
    "    prm(symu, f)"
   ]
  },
  {
   "cell_type": "code",
   "execution_count": null,
   "metadata": {},
   "outputs": [],
   "source": [
    "generate_prm(u(x,y))"
   ]
  },
  {
   "cell_type": "code",
   "execution_count": null,
   "metadata": {},
   "outputs": [],
   "source": [
    "generate_prm(u1(x,y))"
   ]
  },
  {
   "cell_type": "code",
   "execution_count": null,
   "metadata": {},
   "outputs": [],
   "source": [
    "generate_prm(u2(x,y,z))"
   ]
  },
  {
   "cell_type": "code",
   "execution_count": null,
   "metadata": {},
   "outputs": [],
   "source": [
    "generate_prm(u3(x,y,z))"
   ]
  },
  {
   "cell_type": "code",
   "execution_count": null,
   "metadata": {},
   "outputs": [],
   "source": [
    "generate_prm(u4(x,y))"
   ]
  },
  {
   "cell_type": "code",
   "execution_count": null,
   "metadata": {},
   "outputs": [],
   "source": [
    "generate_prm(u5(x,y))"
   ]
  }
 ],
 "metadata": {
  "kernelspec": {
   "display_name": "Python 3",
   "language": "python",
   "name": "python3"
  },
  "language_info": {
   "codemirror_mode": {
    "name": "ipython",
    "version": 3
   },
   "file_extension": ".py",
   "mimetype": "text/x-python",
   "name": "python",
   "nbconvert_exporter": "python",
   "pygments_lexer": "ipython3",
   "version": "3.8.8"
  }
 },
 "nbformat": 4,
 "nbformat_minor": 2
}
